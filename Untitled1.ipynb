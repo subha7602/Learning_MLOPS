{
 "cells": [
  {
   "cell_type": "code",
   "execution_count": null,
   "id": "66e03781-fb56-41fe-aa91-64d52153f934",
   "metadata": {},
   "outputs": [],
   "source": []
  }
 ],
 "metadata": {
  "kernelspec": {
   "display_name": "Python (visa)",
   "language": "python",
   "name": "visa"
  },
  "language_info": {
   "codemirror_mode": {
    "name": "ipython",
    "version": 3
   },
   "file_extension": ".py",
   "mimetype": "text/x-python",
   "name": "python",
   "nbconvert_exporter": "python",
   "pygments_lexer": "ipython3",
   "version": "3.8.20"
  }
 },
 "nbformat": 4,
 "nbformat_minor": 5
}
